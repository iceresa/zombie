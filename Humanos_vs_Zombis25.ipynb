{
 "cells": [
  {
   "cell_type": "markdown",
   "metadata": {
    "id": "QFNMc2UuJ-Gt"
   },
   "source": [
    "<h1><center>Cómo sobrevivir a una invasión zombi: usando matemática (edición 2025)</center></h1>\n",
    "\n",
    "\n",
    "\n",
    "\n"
   ]
  },
  {
   "cell_type": "markdown",
   "metadata": {
    "id": "1hSsIJqJJ-Gt"
   },
   "source": [
    "#Guía de trabajo"
   ]
  },
  {
   "cell_type": "markdown",
   "metadata": {
    "id": "MTaahcYt-aeh"
   },
   "source": [
    "<h2> Primera Parte</h2>"
   ]
  },
  {
   "cell_type": "markdown",
   "metadata": {
    "id": "Zd1c6Tsdv_gX"
   },
   "source": [
    "Supongamos que todos los humanos vivimos en un edificio y salimos todos juntos. Pero cada vez que salimos, se infecta <font color=\"blue\">la décima parte</font> del grupo:\n",
    " $$\\begin{array}{cccc}\n",
    "   h_0 & \\phantom{aa} & h_1=h_0-\\frac{h_0}{10} & \\dots \\\\ \n",
    "   t=0 & \\phantom{aa} & t=1 & \\dots \\\\\n",
    "  \\end{array}$$\n",
    " ¿Cuántos humanos somos a tiempo $n$ con respecto a lo que había al principio?\n",
    "\n",
    " $$ \\begin{align*}\n",
    " h_{n+1} &= h_n-\\frac{1}{10}h_{n}\\\\ \n",
    "         &= \\bigg(\\frac{9}{10}\\bigg) h_n \n",
    "     \\end{align*}$$\n",
    "     \n",
    "También lo podemos expresar en función de los que había inicialmente\n",
    "     \n",
    "         \n",
    "  $$ \\begin{align*}        \n",
    "       h_{n+1}&=\\bigg(\\frac{9}{10}\\bigg) h_n = \\bigg(\\frac{9}{10}\\bigg)\\bigg(\\frac{9}{10}\\bigg) h_{n-1} \\\\\n",
    "         &= \\bigg(\\frac{9}{10}\\bigg)^2 h_{n-1} \\\\\n",
    "         &= \\dots  \\\\\n",
    "         &= \\bigg(\\frac{9}{10}\\bigg)^{n+1} h_0 \n",
    "   \\end{align*}$$\n",
    "\n",
    " ¿Cómo será el gráfico de la cantidad de humanos en función del tiempo?\n",
    " \n",
    " \n",
    " \n",
    "\n"
   ]
  },
  {
   "cell_type": "code",
   "execution_count": null,
   "metadata": {},
   "outputs": [],
   "source": [
    "from matplotlib.pyplot import *\n",
    "import matplotlib.pyplot as plt"
   ]
  },
  {
   "cell_type": "code",
   "execution_count": null,
   "metadata": {},
   "outputs": [],
   "source": [
    "# Definimos a cuantos años queremos ver la evolución\n",
    "N=30\n",
    "h= np.zeros(N)\n",
    "# Vamos a guardar la cantidad de humanos que hay cada año. En principio, tenemos sólo los del primer año. \n",
    "h[0] = 1000\n",
    "for i in range(0,N-1):\n",
    "    h[i+1]=9/10*h[i]\n",
    "# Graficamos:\n",
    "plot(h,'o') #grafica circulitos. \n",
    "plt.xlabel('años')\n",
    "plt.ylabel('cantidad')\n",
    "plt.title('Humanos en el tiempo')\n"
   ]
  },
  {
   "cell_type": "markdown",
   "metadata": {
    "id": "L7poUO2LyZzX"
   },
   "source": [
    "Pensemos ahora en la cantidad de zombis que, cada vez que salen los humanos, aumenta (porque los humanos se convierten en zombis). Supongamos que estamos en un caso donde, cada vez que salen los humanos, la cantidad de zombis aumenta en <font color=\"blue\">un décimo</font>:\n",
    "$$\\begin{array}{cccc}\n",
    "   z_0 & \\phantom{aa} & z_1=z_0+\\frac{z_0}{10} & \\dots \\\\ \n",
    "   t=0 & \\phantom{aa} & t=1 & \\dots \\\\\n",
    "  \\end{array}$$\n",
    " ¿Cuántos zombis hay a tiempo $n$ con respecto a lo que había al principio? Razonamos como antes:\n",
    "\n",
    " $$z_{n+1} = z_n+\\frac{1}{10}z_n = \\Big(\\frac{11}{10}\\Big)z_n = \\dots = \\Big(\\frac{11}{10}\\Big)^{n+1} z_0 $$\n",
    " \n",
    " ¿Cómo sería un gráfico de la cantidad de zombis en función del tiempo?"
   ]
  },
  {
   "cell_type": "code",
   "execution_count": null,
   "metadata": {},
   "outputs": [],
   "source": [
    "# Definimos a cuantos años queremos ver la evolución\n",
    "N=30\n",
    "z= np.zeros(N)\n",
    "# Vamos a guardar la cantidad de zombis que hay cada año. En principio, tenemos sólo los del primer año. \n",
    "z[0] = 10\n",
    "for i in range(0,N-1):\n",
    "    z[i+1]=11/10*z[i]\n",
    "# Graficamos:\n",
    "plot(z,'*') #grafica estrellass. \n",
    "plt.xlabel('años')\n",
    "plt.ylabel('cantidad')\n",
    "plt.title('Zombis en el tiempo')\n"
   ]
  },
  {
   "cell_type": "code",
   "execution_count": null,
   "metadata": {},
   "outputs": [],
   "source": [
    "plot(h,'o',label=\"Humanos\")\n",
    "plot(z,'*',label=\"Zombis\")\n",
    "plt.legend()"
   ]
  },
  {
   "cell_type": "markdown",
   "metadata": {},
   "source": [
    "Cuantos humanos y cuantos zombis habrá en 15 años según este modelo?\n"
   ]
  },
  {
   "cell_type": "code",
   "execution_count": null,
   "metadata": {},
   "outputs": [],
   "source": [
    "print(h[15],z[15])"
   ]
  },
  {
   "cell_type": "markdown",
   "metadata": {
    "id": "PE7u-BJfyKNy"
   },
   "source": [
    "Conclusión, en cada caso tenemos que:\n",
    "$$h_{n}=\\alpha^n h_0, \\hspace{2cm} z_{n}=\\beta^n z_0.$$\n",
    "para ciertos valores de $\\alpha$ y $\\beta$,  \n",
    "\n",
    "¿Qué podemos deducir un comportamiento cuando el tiempo $n$ se hace cada vez más grande?\n",
    "\n"
   ]
  },
  {
   "cell_type": "markdown",
   "metadata": {},
   "source": [
    "<h4>Observar como varia el comportamineto dependiendo de los valores de $\\alpha$ y $\\beta$ <h4>"
   ]
  },
  {
   "cell_type": "code",
   "execution_count": null,
   "metadata": {
    "id": "5vVZTawg8sOG"
   },
   "outputs": [],
   "source": [
    "#Codigo para distintos valores de alfa."
   ]
  },
  {
   "cell_type": "code",
   "execution_count": null,
   "metadata": {
    "id": "bjErOZ0t85Dq"
   },
   "outputs": [],
   "source": [
    "#Codigo para distintos valores de beta."
   ]
  },
  {
   "cell_type": "markdown",
   "metadata": {
    "id": "fVX9heGGJ-Gu"
   },
   "source": [
    "\n",
    "<h3>Competencia entre especies</h3>\n"
   ]
  },
  {
   "cell_type": "markdown",
   "metadata": {
    "id": "-ludgGFPaNiU"
   },
   "source": [
    "1.   Pero la cantidad de zombis y la cantidad de humanos dependen una de la otra. Empecemos suponiendo simplemente que la cantidad de zombis aumenta proporcionalmente a la cantidad de humanos. Entonces: \n",
    "$$\\left\\lbrace\\begin{array}{rcl}h_{k+1} & = & h_k-\\alpha h_k \\\\ z_{k+1} & = & z_k+\\alpha h_k \\end{array}\\right.$$\n",
    "\n",
    "¿Cómo es la evolución de las poblaciones si, por ejemplo, $h_0=1000$, $z_0=10$, $\\alpha = 0.1$?"
   ]
  },
  {
   "cell_type": "code",
   "execution_count": null,
   "metadata": {
    "id": "wFUUQhWzaNBv"
   },
   "outputs": [],
   "source": [
    "h[0]    = 1000\n",
    "z[0]    = 10\n",
    "alfa = 0.1\n",
    "for i in range(0,N-1):\n",
    "    h[i+1]=h[i]-alfa*h[i];\n",
    "    z[i+1]=z[i]+alfa*h[i];\n",
    "\n",
    "plot(h,'o')\n",
    "plot(z,'*')\n",
    "legend(['Humanos','Zombis'])\n",
    "plt.savefig(\"Humanos_versus_Zombis_M1.jpg\")"
   ]
  },
  {
   "cell_type": "markdown",
   "metadata": {
    "id": "CDycHCTSV6MW"
   },
   "source": [
    "2.   Tengamos en cuenta la interacci\\'on de humanos y zombis y la capacidad de los humanos para defenderse y de los zombis para infectar!\n",
    "\n",
    "$\\alpha=$ efectividad con que los zombis contagian a los humanos.\n",
    "\n",
    " $\\beta=$ efectividad con que los humanos matan a los zombis.\n",
    "\n",
    "$$ \\begin{aligned}\n",
    "h_{n+1} = &\\, h_n - \\alpha z_n h_n  \\\\\n",
    "z_{n+1} = & \\, z_n  - \\beta z_n h_n +  \\alpha z_n h_n\n",
    "\\end{aligned} $$\n",
    "\n",
    "Probamos con $h_0=1000$, $z_0=10$, $\\alpha=0.003$ y $\\beta=0.001$\n",
    "<br>¿Qué ocurre con la cantidad total de individuos (humanos + zombis)?\n",
    "<br>¿Y si se invierten los valores de $\\alpha$ y $\\beta$?"
   ]
  },
  {
   "cell_type": "code",
   "execution_count": null,
   "metadata": {
    "id": "iLylR14vb47D"
   },
   "outputs": [],
   "source": [
    "M=15\n",
    "h= np.zeros(M)\n",
    "z= np.zeros(M)\n",
    "h[0] = 1000\n",
    "z[0] = 10\n",
    "alfa = 0.003\n",
    "beta = 0.001\n",
    "for i in range(0,M-1):\n",
    "    h[i+1] =max(h[i]-alfa*h[i]*z[i],0) \n",
    "    z[i+1] =max(z[i]+ (alfa -beta)*z[i]*h[i],0);\n",
    "\n",
    "plot(h,'*')\n",
    "plot(z,'*')\n",
    "legend(['Humanos','Zombis'])\n",
    "print(h[M-1]+z[M-1])\n"
   ]
  },
  {
   "cell_type": "code",
   "execution_count": null,
   "metadata": {
    "id": "5OD0mwzktsdI"
   },
   "outputs": [],
   "source": []
  },
  {
   "cell_type": "code",
   "execution_count": null,
   "metadata": {
    "id": "emNQddaxVGTA"
   },
   "outputs": [],
   "source": []
  },
  {
   "cell_type": "markdown",
   "metadata": {
    "id": "_ZjUSbDbDTiJ"
   },
   "source": [
    "<h2> Segunda Parte</h2>"
   ]
  },
  {
   "cell_type": "markdown",
   "metadata": {
    "id": "pSLwRTZBWyd9"
   },
   "source": [
    "3.  Veamos un modelo más complejo. Consideremos los siguiente:\n",
    "\n",
    "  *   Los humanos nacemos proporcionalmente a nuestra población (tasa de natalidad TN)\n",
    "  *   Para que un humano se convierta en zombi, se tiene que encontrar un humano con un zombi, tiene que haber interacción y hay una tasa de efectividad $a$ con la que los zombis logran contagiar a los humanos.\n",
    "  *   Los humanos morimos por causas ajenas a los zombis proporcionalmente a nuestra población (tasa de mortalidad TM).\n",
    "  *   Los zombis no se reproducen ni mueren por causas naturales.\n",
    "  *   Los zombis pueden morir cuando hay encuentro con humanos porque los humanos los matamos con una tasa de efectividad $b$.\n",
    "\n",
    "Las ecuaciones quedan:\n",
    "$$\\left\\lbrace\\begin{array}{rcl}h_{n+1} & = & h_n+ TN h_n - TM h_n - a h_n z_n \\\\ \n",
    "z_{n+1} & = & z_n+a h_n z_n -b h_n z_n \\\\\n",
    "\\end{array}\\right.$$"
   ]
  },
  {
   "cell_type": "code",
   "execution_count": null,
   "metadata": {
    "id": "GTs-drLmJ-Gv"
   },
   "outputs": [],
   "source": [
    "TN = 0.017\n",
    "TM = 0.008\n",
    "\n",
    "a = 0.002\n",
    "b = 0.001\n",
    "\n",
    "h0 = 1000\n",
    "z0 = 10\n",
    "h  = [h0]\n",
    "z  = [z0]\n",
    "\n",
    "tiempo_simulacion = 20 \n",
    "\n",
    "for i in range(0,tiempo_simulacion):\n",
    "    h.append(max(h[i]+(TN-TM)*h[i]-a*h[i]*z[i],0))\n",
    "    z.append(max(z[i]+(a-b)*h[i]*z[i],0))\n",
    "\n",
    "plot(h,'.')\n",
    "plot(z,'.')\n",
    "title('Humanos y Zombis vs el tiempo')\n",
    "xlabel('t')\n",
    "ylabel('cantidad')\n",
    "legend(['Humanos','Zombis'])"
   ]
  },
  {
   "cell_type": "markdown",
   "metadata": {
    "id": "QFH-tdflIY6C"
   },
   "source": [
    "¿Qué ocurre si se modifican los parámetros?. Por ejemplo, si se aumenta el valor de $b$ a $0.0015$? ¿y si $b=0.002$? ¿y si $b>a$?"
   ]
  },
  {
   "cell_type": "code",
   "execution_count": null,
   "metadata": {
    "id": "CnxZdpi_dkB4"
   },
   "outputs": [],
   "source": [
    "TN = 0.017\n",
    "TM = 0.008\n",
    "\n",
    "a = 0.002\n",
    "b = 0.001\n",
    "\n",
    "h0 = 1000\n",
    "z0 = 10\n",
    "h  = [h0]\n",
    "z  = [z0]\n",
    "\n",
    "Tf=15 #Tiempo final\n",
    "for i in range(0,Tf-1):\n",
    "    h.append(max(h[i]+(TN-TM)*h[i]-a*h[i]*z[i],0)); \n",
    "    z.append(max(z[i]+(a-b)*h[i]*z[i],0));\n",
    "\n",
    "plot(h,'.')\n",
    "plot(z,'.')\n",
    "title('Humanos y Zombis vs el tiempo')\n",
    "xlabel('t')\n",
    "ylabel('cantidad')\n",
    "legend(['Humanos','Zombis'])"
   ]
  },
  {
   "cell_type": "markdown",
   "metadata": {
    "id": "-A2DUH3lJ2H6"
   },
   "source": [
    "Probemos también qué ocurre si se deja $b=0.001$ pero se disminuye $a$, o se aumenta $N$ o se disminuye $M$."
   ]
  },
  {
   "cell_type": "code",
   "execution_count": null,
   "metadata": {
    "id": "yJRC11yQKJJe"
   },
   "outputs": [],
   "source": []
  },
  {
   "cell_type": "markdown",
   "metadata": {
    "id": "i4Qh3Y5R0VcK"
   },
   "source": [
    "4. Se puede observar una dinámica interesante si contemplamos la posibilidad de que los zombis \"mueran\" por \"causas naturales\". En ese caso, las ecuaciones quedan:\n",
    "$$\\left\\lbrace\\begin{array}{rcl}h_{n+1} & = & h_n+(TN-TM) h_n - a h_n z_n \\\\ \n",
    "z_{n+1} & = & c z_n+(a-b) h_n z_n \\\\\n",
    "\\end{array}\\right.$$\n",
    "Donde $c$ es la proporción de zombis que sobrevivirían con independencia de los encuentros con humanos.\n",
    "\n",
    "Problemos este modelo con $TN = 0.017$, $TM = 0.008$, $a = 0.002$, $b = 0.001$ y $c=0.99$ y con una cantidad más pareja de humanos y zombis."
   ]
  },
  {
   "cell_type": "code",
   "execution_count": null,
   "metadata": {
    "id": "Z0pPRIwD1-i-"
   },
   "outputs": [],
   "source": [
    "TN = 0.017\n",
    "TM = 0.008\n",
    "\n",
    "a = 0.002\n",
    "b = 0.001\n",
    "\n",
    "c = 0.99\n",
    "\n",
    "h0 = 20\n",
    "z0 = 10\n",
    "h  = [h0]\n",
    "z  = [z0]\n",
    "\n",
    "tiempo_simulacion = 2000 \n",
    "\n",
    "for i in range(0,tiempo_simulacion):\n",
    "    h.append(h[i]+(TN-TM)*h[i]-a*h[i]*z[i])\n",
    "    z.append(c*z[i]+(a-b)*h[i]*z[i])\n",
    "\n",
    "plot(h,'.')\n",
    "plot(z,'.')\n",
    "title('Humanos y Zombis vs el tiempo')\n",
    "xlabel('t')\n",
    "ylabel('cantidad')\n",
    "legend(['Humanos','Zombis'])"
   ]
  },
  {
   "cell_type": "markdown",
   "metadata": {
    "id": "HRpC16IE982T"
   },
   "source": [
    "¿Qué se observa en el gráfico anterior? ¿Qué pasa con la cantidad de zombis y de humanos?\n",
    "\n",
    "En un caso como este es interesante también realizar el gráfico de las poblaciones una en función de la otra, sin mirar el tiempo. De la siguiente manera:"
   ]
  },
  {
   "cell_type": "code",
   "execution_count": null,
   "metadata": {
    "id": "hJiN5W_D-K_T"
   },
   "outputs": [],
   "source": [
    "plot(h,z,'.')\n",
    "title('Humanos vs Zombis')\n",
    "xlabel('Humanos')\n",
    "ylabel('Zombis')\n"
   ]
  },
  {
   "cell_type": "markdown",
   "metadata": {
    "id": "nIi9qxuS-W0-"
   },
   "source": [
    "¿Qué interpretar se puede hacer de este gráfico?"
   ]
  },
  {
   "cell_type": "markdown",
   "metadata": {
    "id": "Nrx-k6YobKrd"
   },
   "source": [
    "<h2> Yapa </h2>"
   ]
  },
  {
   "cell_type": "markdown",
   "metadata": {
    "id": "q2SyqyXHIxvx"
   },
   "source": [
    "Para terminar, consideremos el modelo para enfermedades infecciosas $SI$:\n",
    "$$\\left\\lbrace\\begin{array}{rcl}\n",
    "S_{n+1} & = & S_n+ N(S_n+I_n)-m_1 S_n - a S_n I_n \\\\ \n",
    "I_{n+1} & = & I_n - m_2 I_n + a S_n I_n \\\\\n",
    "\\end{array}\\right.$$\n",
    "Consideremos por ejemplo: $N=0.17$, $m_1 = 0.08$, $a=0.0005$, $m_2 = 0.15$, con $S_0=1000$ e $I_0=5$."
   ]
  },
  {
   "cell_type": "code",
   "execution_count": null,
   "metadata": {
    "id": "oTPGZBaMMVBF"
   },
   "outputs": [],
   "source": [
    "N  = 0.017\n",
    "m1 = 0.008\n",
    "\n",
    "a  = 0.0005\n",
    "m2  = 0.15\n",
    "\n",
    "S0  = 1000\n",
    "I0  = 5\n",
    "S   = [S0]\n",
    "I   = [I0]\n",
    "\n",
    "tiempo_simulacion  = 40\n",
    "for i in range(0,tiempo_simulacion):\n",
    "    S.append(max(S[i]+N*(S[i]+I[i])-m1*S[i]-a*S[i]*I[i],0)); \n",
    "    I.append(max(I[i]+a*S[i]*I[i]-m2*I[i],0));\n",
    "\n",
    "plot(S,'.')\n",
    "plot(I,'.')\n",
    "title('S e I vs el tiempo')\n",
    "xlabel('t')\n",
    "ylabel('cantidad')\n",
    "legend(['S','I'])"
   ]
  },
  {
   "cell_type": "code",
   "execution_count": null,
   "metadata": {
    "id": "aIEkVm5QNGLv"
   },
   "outputs": [],
   "source": []
  },
  {
   "cell_type": "code",
   "execution_count": null,
   "metadata": {
    "id": "HDOCsqQONn0M"
   },
   "outputs": [],
   "source": []
  },
  {
   "cell_type": "code",
   "execution_count": null,
   "metadata": {
    "id": "G9YZcSa5bwr5"
   },
   "outputs": [],
   "source": []
  },
  {
   "cell_type": "code",
   "execution_count": null,
   "metadata": {},
   "outputs": [],
   "source": []
  }
 ],
 "metadata": {
  "colab": {
   "collapsed_sections": [],
   "name": "Zombis - Semana de la Matemática 2021.ipynb",
   "provenance": []
  },
  "kernelspec": {
   "display_name": "Python 3 (ipykernel)",
   "language": "python",
   "name": "python3"
  },
  "language_info": {
   "codemirror_mode": {
    "name": "ipython",
    "version": 3
   },
   "file_extension": ".py",
   "mimetype": "text/x-python",
   "name": "python",
   "nbconvert_exporter": "python",
   "pygments_lexer": "ipython3",
   "version": "3.10.9"
  }
 },
 "nbformat": 4,
 "nbformat_minor": 1
}
